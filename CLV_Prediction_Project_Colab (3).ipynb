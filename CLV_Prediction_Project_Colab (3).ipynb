{
 "cells": [
  {
   "cell_type": "markdown",
   "id": "c6b60629",
   "metadata": {},
   "source": [
    "# 🧠 CLV Prediction Project in Google Colab"
   ]
  },
  {
   "cell_type": "code",
   "execution_count": null,
   "id": "d27c207c",
   "metadata": {},
   "outputs": [],
   "source": [
    "from google.colab import files\n",
    "uploaded = files.upload()"
   ]
  },
  {
   "cell_type": "code",
   "execution_count": null,
   "id": "54854f98",
   "metadata": {},
   "outputs": [],
   "source": [
    "import pandas as pd\n",
    "df = pd.read_csv('ecommerce_customers_clv_cleaned.csv')\n",
    "df.head()"
   ]
  },
  {
   "cell_type": "code",
   "execution_count": null,
   "id": "54a070f4",
   "metadata": {},
   "outputs": [],
   "source": [
    "df.info()\n",
    "df.describe()"
   ]
  },
  {
   "cell_type": "code",
   "execution_count": null,
   "id": "734b1b4f",
   "metadata": {},
   "outputs": [],
   "source": [
    "\n",
    "import matplotlib.pyplot as plt\n",
    "import seaborn as sns\n",
    "\n",
    "sns.countplot(data=df, x='CLV_High')\n",
    "plt.title('High CLV vs Low CLV Customers')\n",
    "plt.show()\n",
    "\n",
    "sns.histplot(df['TotalSpend'], kde=True)\n",
    "plt.title('Total Spend Distribution')\n",
    "plt.show()\n"
   ]
  },
  {
   "cell_type": "code",
   "execution_count": null,
   "id": "5ddcb984",
   "metadata": {},
   "outputs": [],
   "source": [
    "\n",
    "from sklearn.model_selection import train_test_split\n",
    "from sklearn.ensemble import RandomForestClassifier\n",
    "from sklearn.metrics import classification_report, confusion_matrix, roc_auc_score\n",
    "from sklearn.preprocessing import StandardScaler\n",
    "\n",
    "features = ['Age', 'TotalSpend', 'PurchaseCount', 'AvgSessionDuration', 'SupportTickets',\n",
    "            'NewsletterSubscriber', 'TenureDays', 'RecencyDays', 'EngagementScore']\n",
    "X = df[features]\n",
    "y = df['CLV_High']\n",
    "\n",
    "X_train, X_test, y_train, y_test = train_test_split(X, y, test_size=0.3, random_state=42)\n",
    "scaler = StandardScaler()\n",
    "X_train_scaled = scaler.fit_transform(X_train)\n",
    "X_test_scaled = scaler.transform(X_test)\n",
    "\n",
    "model = RandomForestClassifier(random_state=42)\n",
    "model.fit(X_train_scaled, y_train)\n",
    "\n",
    "y_pred = model.predict(X_test_scaled)\n",
    "print(confusion_matrix(y_test, y_pred))\n",
    "print(classification_report(y_test, y_pred))\n",
    "print('ROC AUC:', roc_auc_score(y_test, model.predict_proba(X_test_scaled)[:,1]))\n"
   ]
  },
  {
   "cell_type": "code",
   "execution_count": null,
   "id": "a1a90370",
   "metadata": {},
   "outputs": [],
   "source": [
    "\n",
    "importances = model.feature_importances_\n",
    "feat_imp = pd.Series(importances, index=features).sort_values(ascending=False)\n",
    "\n",
    "plt.figure(figsize=(10, 6))\n",
    "feat_imp.plot(kind='bar')\n",
    "plt.title('Feature Importances')\n",
    "plt.show()\n"
   ]
  },
  {
   "cell_type": "code",
   "execution_count": null,
   "id": "cd871e34",
   "metadata": {},
   "outputs": [],
   "source": [
    "\n",
    "df.to_csv(\"processed_clv_data.csv\", index=False)\n",
    "files.download(\"processed_clv_data.csv\")\n"
   ]
  }
 ],
 "metadata": {},
 "nbformat": 4,
 "nbformat_minor": 5
}